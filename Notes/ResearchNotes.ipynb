{
 "cells": [
  {
   "cell_type": "markdown",
   "id": "66b35b9a-9446-424e-a8d2-057946b9a97e",
   "metadata": {
    "jp-MarkdownHeadingCollapsed": true
   },
   "source": [
    "# General stuff"
   ]
  },
  {
   "cell_type": "markdown",
   "id": "4b7ee56a-8b31-46d8-9990-72540211de5b",
   "metadata": {},
   "source": [
    "[Aliview README](https://github.com/AliView/AliView/blob/master/README.md)<br>\n",
    "[BLAST Quick Start](https://www.ncbi.nlm.nih.gov/books/NBK1734/)"
   ]
  },
  {
   "cell_type": "markdown",
   "id": "f8fcce96-69b4-4716-b5fe-703b6ba0772d",
   "metadata": {
    "jp-MarkdownHeadingCollapsed": true
   },
   "source": [
    "# September: Outlining my task, preliminary background"
   ]
  },
  {
   "cell_type": "markdown",
   "id": "b0a3c3f4-819e-4567-b515-925089c53b94",
   "metadata": {},
   "source": [
    "My job is to identify two genes in _Enterobactereales_ genomes. One gene needs to be predicted to be highly conserved, and the other should be predicted to be highly divergent.\n",
    "\n",
    "This is supposed to be the first step in comparing the conservency of BamA with the conservancy of a highly conserved gene and a highly divergent gene\n",
    "\n",
    "* Define Conservency. What metrics are used for conservancy in bioinformatics?\n",
    "* Find good candidates for what genes are likely to be conserved\n",
    "* Supposing that divergence is the opposite of conservancy, find good candidates for genes taht are not conserved"
   ]
  },
  {
   "cell_type": "markdown",
   "id": "eaac9709-ba65-4db0-b281-2c5146704232",
   "metadata": {},
   "source": [
    "## Background\n",
    "\n",
    "\n"
   ]
  },
  {
   "cell_type": "markdown",
   "id": "e99b119c-c6c8-4349-9aa4-590291cc17db",
   "metadata": {},
   "source": [
    "__[Conserved Sequence](https://en.wikipedia.org/wiki/Conserved_sequence)__: Conserved sequences are identical or similar sequences in DNA, RNA, or proteins across species or within a genome. _orthologous sequences_ are conserved sequences across species, and _paralogous sequences_ are conserved sequences within a genome. __In our work I believe we are conserned with orthologous sequences__."
   ]
  },
  {
   "cell_type": "markdown",
   "id": "1286716a-31a9-4daf-be68-8d73a114f7e4",
   "metadata": {},
   "source": [
    "__Examples of conserved genes in bacteria__: RNA components of ribosomes (16S RNA?), tmRNA in bacteria."
   ]
  },
  {
   "cell_type": "markdown",
   "id": "dbd1d0ad-07cf-4112-b3c1-749abd1e1cd9",
   "metadata": {},
   "source": [
    "## Papers\n",
    "\n"
   ]
  },
  {
   "cell_type": "markdown",
   "id": "f091bc4a-8ab8-4d94-bd31-684ef71d0452",
   "metadata": {},
   "source": [
    "__[Essential Genes Are More Evolutionarily Conserved Than Are Nonessential Genes in Bacteria](https://www.ncbi.nlm.nih.gov/pmc/articles/PMC1383730/)__ <br> _I feel like this 2002 paper could give us some good examples of highly and less conserved genes in bacteria. If its expected to be highly conserved in all bacteria it should be highly conserved in Enterobacteriales, and same logic for less conserved stuff, right? This seems like a pretty well cited paper. It's still being sited somewhat regularly 20 years later._\n",
    "*  Says negative (purifying) selection acting on essential genes should be more stringent than for __nonsessential__ genes whidch are more functinally __dispensable and/or redundant__\n",
    "*  \n"
   ]
  },
  {
   "cell_type": "markdown",
   "id": "cd3f934a-8da5-4e88-81b0-d66d31c01855",
   "metadata": {},
   "source": [
    "## Misc. Thoughts"
   ]
  },
  {
   "cell_type": "markdown",
   "id": "50b570f1-9a36-4dfd-ba29-77219d7028b8",
   "metadata": {},
   "source": [
    "* The other subunits of the BAM complex other than BamA are appearantly different in other bacteria. My question is are these the same proteins mutated or are they different proteins all together? Good candidates for a highly variant gene?"
   ]
  },
  {
   "cell_type": "markdown",
   "id": "6a952131-dcf5-408b-be6e-e5a0d4c3cf96",
   "metadata": {},
   "source": [
    "## My thoughts for 9/28/23 meeting"
   ]
  },
  {
   "cell_type": "markdown",
   "id": "27912805-3cdf-4741-bf09-1b584067f627",
   "metadata": {},
   "source": [
    "__Identifying a highly conserved sequence__: If we are going to be looking for highly conserved sequences within _Enterobacteriales_, Maybe we should start by looking for a gene highly conserved between other orders of bacteria. I think there was a vital gene that humans share with zebrafish because it's just so important that any mutations are instantly fatal. Maybe bacteria have the same gene, or maybe there is a prokaryotic equivalent. \n",
    "* If it is highly conserved, it should be a gene common to most or all bacteria\n",
    "* The highly variant gene could (maybe should) be one specific to _Enterobacteriales_."
   ]
  },
  {
   "cell_type": "markdown",
   "id": "05dbb7af-881b-4d96-97e2-6230bc22c946",
   "metadata": {},
   "source": [
    "__The hypothesis?__ Is it that BamA is something so vital that it must be highly conserved for bacteria to survive?"
   ]
  },
  {
   "cell_type": "markdown",
   "id": "45de57a8-5c83-4563-a521-3ab31c5d3a8e",
   "metadata": {},
   "source": [
    "## Thoughts for 10/05/23 meeting"
   ]
  },
  {
   "cell_type": "markdown",
   "id": "55379ee8-7a16-4a94-8499-17c1c7f01c6d",
   "metadata": {},
   "source": [
    "## Notes from 10/03/23 meeting"
   ]
  },
  {
   "cell_type": "markdown",
   "id": "e0d28e45-6cd6-440b-8a10-8f9eb83b9704",
   "metadata": {},
   "source": [
    "__Implications of research__: If BamA is similar enough between bacterial strains, an antibiotic may be developed to target BAM in a wide variety of Gram-Negative bacteria\n",
    "\n",
    "SecA for highly conserved\n",
    "Find something \"Neutrally Evolving\"\n",
    "\n",
    "Figure how they decide proteins are conserved or not (SecY conserved, SecG not conserved). Randy Emailed me a paper\n",
    "\n",
    "Probably start with creating the allignment with SecY and SecG. Talk to Alex to make sure we are doing the same methods. Maybe check out other subunits"
   ]
  },
  {
   "cell_type": "markdown",
   "id": "cec3b5cf-f1d5-4faa-927e-86d9fc51a51d",
   "metadata": {
    "jp-MarkdownHeadingCollapsed": true
   },
   "source": [
    "# 10/04/2023 : Finding proteins to compare"
   ]
  },
  {
   "cell_type": "markdown",
   "id": "39e06ab6-9f94-40d6-ab13-57f1c04e05cc",
   "metadata": {},
   "source": [
    "Based on the discussion from the 10/03/23 meeting it looks like SecY is going to be our conserved protein. I didn't find it, Bakelar suggested it. I haven't really vetted it yet, so I want to go ahead and do that today. Alex wants me to make an alignment for those proteins using GenBank for the 120 Enterobacteriales species. Better get started, this could take a while.\n",
    "\n",
    "I am of the opinion that SecY should not be the only highly conserved protein we should be looking at. Maybe we should find 2 or 3, including some classic examples like the transynthetase protein... I guess that work would be on me to complete.\n",
    "\n",
    "I want to see if there is a quick way to use blast on all of our bacteria or if I have to manually pick them out"
   ]
  },
  {
   "cell_type": "markdown",
   "id": "22a61ab6-4c76-4d0f-bdf8-ec7db846bd09",
   "metadata": {},
   "source": [
    "### SecY background research"
   ]
  },
  {
   "cell_type": "markdown",
   "id": "5b283564-f2f9-4727-8a0f-0178f83e10fb",
   "metadata": {},
   "source": [
    "<hr>\n",
    "\n",
    "According to [This webpage](https://www.ebi.ac.uk/interpro/entry/InterPro/IPR030659/) SecY is a conserved site. It also mentions SecA and secE, but no mention of SecG. I worry that SecG won't be present in all bacteria on our list.\n",
    "\n",
    "SecY plays an important role in protein export. Involved in signal sequences for secretory proteins and seems to interact with two other components of protein translocase sytem: SecA and SecE\n",
    "\n",
    "SecY is an integrap plasma membrane protein, 419-492 aa residues long. SecY has homologs in archae bacteria and maybe chloroplasts. _bodes well for how highly conserved it should be_.\n",
    "\n",
    "Conserved sites in secY: first corresponds to second transmembrane region (most conserved section of these proteins) second spans the C-terminal part of the fourth transmembrane region, a short intracellular loop, and the N-terminal part of the fifth transmembrane region.\n",
    "\n",
    "_Bakelar seems interested in a particularly well conserved region of BamA. Looks like SecY has particulary well conserved regions too. Should we maybe compare BamA's region of interest with these other highly conserved regions in addition to the overal conservancy?_"
   ]
  },
  {
   "cell_type": "markdown",
   "id": "cdecfa15-d0df-48ba-8e54-c8a5939cd76e",
   "metadata": {},
   "source": [
    "<hr>\n",
    "\n"
   ]
  },
  {
   "cell_type": "markdown",
   "id": "89f2bd77-0c3c-46ab-8247-33d5bb0bcfb7",
   "metadata": {},
   "source": [
    "### Universally Conserved genes"
   ]
  },
  {
   "cell_type": "markdown",
   "id": "bbeed990-d591-4ff4-98e3-de7122963d93",
   "metadata": {},
   "source": [
    "As a baseline for ultra-conserved genes, maybe we could look at some of these. I like the idea of including SecY, but how would it compare to these guys?\n",
    "\n",
    "__Candidate Genes__\n",
    "*  [GTP-binding elongation factor family](https://en.wikipedia.org/wiki/EF-Tu)\n",
    "*  [Methionine aminopeptidase 2](https://en.wikipedia.org/wiki/METAP2)\n",
    "*  [Serine hydroxymethyltransferase](https://en.wikipedia.org/wiki/Serine_hydroxymethyltransferase)\n",
    "*  [ATP transporters](https://en.wikipedia.org/wiki/ATP-binding_cassette_transporter)\n",
    "*  RNA polymerases, Helicases, ect"
   ]
  },
  {
   "cell_type": "markdown",
   "id": "ffc56a0f-6186-4526-9dd9-2f13c56940a5",
   "metadata": {},
   "source": [
    "### Variant genes"
   ]
  },
  {
   "cell_type": "markdown",
   "id": "f9b9ae8f-8086-4a4b-8210-5554f1e007f0",
   "metadata": {},
   "source": [
    "This one seems more tricky to me because we have to find one that is present in all (or most) of our bacteria but that also isn't particularly important or well preserved. It seems like researchers are much more interested in finding essential genes than nonessential genes\n",
    "\n",
    "What about [plasmid](https://www.ncbi.nlm.nih.gov/pmc/articles/PMC9649638/) genes? Horizontal gene transfer, often used and changed, variable in copy number\n",
    "\n",
    "[Comparative analysis of essential and non..](https://www.sciencedirect.com/science/article/pii/S096007791400174X)\n",
    "\n",
    "[DEG database](http://origin.tubic.org/deg/public/index.php) a database of essential and nonessential genes __SUPPOSEDLY HAS NONSESSENTIAL GENES__ but I could not find any information about wether genes were essential or not\n",
    "\n",
    "__Candidate Genes__\n",
    "[SecG](https://pubmed.ncbi.nlm.nih.gov/10732681/)"
   ]
  },
  {
   "cell_type": "markdown",
   "id": "2bfe019d-76a7-40a8-991d-a12bd951c886",
   "metadata": {
    "jp-MarkdownHeadingCollapsed": true
   },
   "source": [
    "# 10/05/23: General Research and Meeting with Alex"
   ]
  },
  {
   "cell_type": "markdown",
   "id": "ba7ef3b4-3d2f-4fd7-b7d0-eedf6fe8648c",
   "metadata": {},
   "source": [
    "I am having serious trouble finding an easy target for a non-conoserved gene that is likely to be present in all of Enterobacteriales. I'm not even really sure how to find such a thing. Anything related to how well conserved a gene is in the literature tends to be concerned with highly conserved genes (because they make a good target for antibiotics I guess, and also for phylogenies).\n",
    "\n",
    "I thought maybe plasmids because they are smaller, passed around, and less likely to be preserved but the problem is all the horizontal gene transfer. I don't know if it's comparable enough to a chromosomal gene.\n",
    "\n",
    "What about a gene that would be present in all bacteria but may change depending on environment... _Something that controls rate of replication or cell shape?_ <br>\n",
    "What about a gene that is targeted by antibiotics? maybe it would have higher rates of mutation because of selective pressure?\n",
    "\n",
    "[Modulation of Chemical Composition and Other Parameters of the Cell by Growth Rate](https://www.researchgate.net/profile/Patrick-Dennis-2/publication/237130769_Modulation_of_Chemical_Composition_and_Other_Parameters_of_the_Cell_by_Growth_Rate/links/0c96053c704c10d62e000000/Modulation-of-Chemical-Composition-and-Other-Parameters-of-the-Cell-by-Growth-Rate.pdf)\n",
    "<hr>\n",
    "\n",
    "## Possible candidates for less conserved genes\n",
    "_Something that controls cell shape/size? or lipopolysaccharide composition of wall?_ <br>\n",
    "[Genetics of the (gram-negative) bacterial surface](https://royalsocietypublishing.org/doi/10.1098/rspb.1978.0055) <br>\n",
    "* cysE\n",
    "* pyrE\n",
    "* _his_-linked genes\n",
    "* uppP gene\n",
    "* atl\n",
    "\n",
    "[Bacterial Cell Wall Synthesis: New Insights from localization Studies](https://www.ncbi.nlm.nih.gov/pmc/articles/PMC1306805/)\n",
    "* rodA\n",
    "* ftsW  <- I think these proteins might show variability and still be present in most bacteria\n",
    "* spoVD\n",
    "\n",
    "Penicilin binding proteins\n",
    "* ponA - General peptidoglycan synthesis\n",
    "* ponB - General peptidoglycan synthesis\n",
    "* pbpA - Elongation-specific TPase\n",
    "* dacA - __PBP5 Control of cell shape__\n",
    "* PBP4a dacC\n",
    "<hr>\n",
    "Okay, now how do I see which one of these is present in all or most of our bacteria? Is there a tool for this? Bakelar maybe?"
   ]
  },
  {
   "cell_type": "markdown",
   "id": "440ab978-2e5a-41d3-a632-11b319a51038",
   "metadata": {},
   "source": [
    "How did alex blast for BamA.\n",
    "Can do it with GenBank. May have to do it by hand if I can't find a better way. Start for SecY"
   ]
  },
  {
   "cell_type": "markdown",
   "id": "89594f88-cfe8-408f-afef-5f223485aaf4",
   "metadata": {},
   "source": [
    "We are concerned with overall conservation for BamA against baseline genes\n",
    "\n",
    "[Perfect guide for limiting BLAST by taxonomy](https://www.ncbi.nlm.nih.gov/books/NBK569846/). It even uses Enterobacteriales as an example.<br> \n",
    "[Someone trying to get all genomes for Enterobacteriales](https://www.biostars.org/p/302533/) I think I will just do this and do a local blast for genes of interest\n",
    "\n",
    "https://www.reddit.com/r/Music/comments/170hz0k/need_to_expand_my_music_listening_whats_a_1010/"
   ]
  },
  {
   "cell_type": "markdown",
   "id": "4005cd9d-a72c-45fb-a9b5-e5c5c3c154f0",
   "metadata": {},
   "source": [
    "<hr>\n",
    "\n",
    "## Plan for SecY\n",
    "Find a way to get SecY gene for all bacteria of interest.\n",
    "I think I might be able to blast SecY and get a big old fasta back that I can parse to cross reference with our bacteria list. Maybe there is a better way, but I would need to find it. "
   ]
  },
  {
   "cell_type": "markdown",
   "id": "e967ee6f-7ef6-4769-88df-5e73961b7acc",
   "metadata": {},
   "source": [
    "<hr>\n",
    "\n",
    "## Summary\n",
    "My plan is to learn how to do local blast. I want to download the complete genomes (protein?) of all bacteria in Enterobacteriales. Should only be a couple hundred, and maybe 1k genes each. Write a script to filter it down to the bacteria of interest, and hopefully be able to quickly make allignments of genes of interest. I will do it for SecY first, and then I will have the framework for which ever other genes I want"
   ]
  },
  {
   "cell_type": "markdown",
   "id": "0284f1a8-e5a6-43fb-8812-e744b249bdce",
   "metadata": {},
   "source": [
    "# 10/06/23"
   ]
  },
  {
   "cell_type": "markdown",
   "id": "49a2a0c9-4c04-4f28-83d0-75b6ab6581dc",
   "metadata": {},
   "source": [
    "__The Plan for Today__\n",
    "*  Read BLAST quick start guide\n",
    "*  Try to write a script that BLASTs for any protein sequence within Enterobacteriales and returns a FASTA\n",
    "*  Try to see if there is a python protein alignment tool, and see if I can make it open with aliview"
   ]
  },
  {
   "cell_type": "markdown",
   "id": "b163628f-53a1-47bc-be57-00e40d054833",
   "metadata": {},
   "source": [
    "# 10/07/23: Scripting to parse Alex's fasta, making SecY alignment"
   ]
  },
  {
   "cell_type": "markdown",
   "id": "ed84c328-b75b-4e90-8958-155e00f76e81",
   "metadata": {},
   "source": [
    "## SecY\n",
    "*  Using NCBI taxid 91347 (Enterobacteriales), I searched for SecY. I downloaded all results in a fasta file.\n",
    "*  Wrote a script to extract species names from alex's BamA alignment, and filter the SecY file to only contain species of interest\n",
    "*  Wrote a second function to eliminate duplicate species in the resulting fasta as well\n",
    "*  only 106 species from Alex's ~120 were present in my UniProt search\n",
    "*  I made an alignment with these species. Looks way more conserved than BamA does\n",
    "*  Haven't verified results to make sure there aren't any bugs. Too mentally drained\n",
    "*  Uploaded files to my git hub\n",
    "  \n",
    "I should be able to use the script I wrote to do the same thing for any protein I want. Needs some cleaning up though\n",
    "__I think differences in results may be due to the different ways we got our sequences__\n",
    "\n",
    "Later in the day after a brain break, made further tweaks to fasta_parsing.py. Ran it on half a dozen proteins from my list of expected less conserved proteins. My only concern is that I'm never getting more than 105 species matches between Alex's enterobacterales.fa and any uniprot fasta I download. There are 120 unique species in Alex's fasta. Either he has some in there that aren't Enterobacterales, or there is a bug in my code.\n",
    "\n",
    "made alignments for:    BamA, SecY, dacA, ftsW, pyrE, rodA, SecG, uppP\n",
    "\n",
    "<hr>\n",
    "\n",
    "## Misc\n",
    "*  I also wrote a janky script to run a blast with python. Essentially unusable but fu"
   ]
  },
  {
   "cell_type": "markdown",
   "id": "9fdbe228-ad30-4cae-a133-83c693467096",
   "metadata": {},
   "source": [
    "# 10/08/23: Testing fastaparser.py, cleaning it up to make it more readable and user friendly"
   ]
  },
  {
   "cell_type": "markdown",
   "id": "ac931060-be7d-486d-83ee-abd1256273bc",
   "metadata": {},
   "source": [
    "All I want to do is clean up the script that I wrote yesterday to make it more usable and readable. I also want to check to see which bacteria I never get any matches for and see if they are enterobacteriales. And if they are, wether they have a SecY entry on UniProt\n",
    "\n",
    "* Rewrote the parsing file\n",
    "* confirmed that all bacteria in Alex's fasta are indeed Enterobacterales\n",
    "\n",
    "That's about all I feel like doing today though. Next thing I want to do is to modify the parser to be able to extract names from UniProt fastas with RegEx. Shouldn't be too hard. I need to know for sure if my code is bugged. I think the easiest way to tell is to try to feed it a uniprot file. Should kick out an identical file if all is well as well as provide me a list of unique species present in UniProt fasta\n",
    "\n",
    "EDIT: had the idea to cross reference the enterobacterales.fa file against itself and it produced an identical fasta. I think that confirms that my code works fine. The fasta format from enterobacterales.fa is different from the UniProt fasta so maybe he used a different database somehow. I still think it would be a good idea to make it capable of extracting names from UniProt fastas\n",
    "\n",
    "EDIT: I was looking back through my notes and realized __Alex got his sequences from GenBank__ I forgot about that. I just got mine from UniProt. My parser can take GenBank fastas I bet. I'm almost certain that's why I didn't get hits from every species on his list in my Uniprot fastas, even for BamA\n"
   ]
  },
  {
   "cell_type": "code",
   "execution_count": null,
   "id": "491c343e-5fcf-4565-965f-fe00945b8cd1",
   "metadata": {},
   "outputs": [],
   "source": []
  }
 ],
 "metadata": {
  "kernelspec": {
   "display_name": "Python 3 (ipykernel)",
   "language": "python",
   "name": "python3"
  },
  "language_info": {
   "codemirror_mode": {
    "name": "ipython",
    "version": 3
   },
   "file_extension": ".py",
   "mimetype": "text/x-python",
   "name": "python",
   "nbconvert_exporter": "python",
   "pygments_lexer": "ipython3",
   "version": "3.11.4"
  }
 },
 "nbformat": 4,
 "nbformat_minor": 5
}
